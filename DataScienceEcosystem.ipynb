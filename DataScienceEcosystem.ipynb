{
 "cells": [
  {
   "cell_type": "markdown",
   "id": "ba2779a3-5efc-4df6-a177-97f00ea4ed73",
   "metadata": {},
   "source": [
    "<h1>Data Science Tools and Ecosystem</h1>"
   ]
  },
  {
   "cell_type": "markdown",
   "id": "824d170b-b70b-41ab-9941-2a46cb92fb0c",
   "metadata": {},
   "source": [
    "In this notebook, Data Science Tools and Ecosystem are summarized."
   ]
  },
  {
   "cell_type": "markdown",
   "id": "c4425ac6-a747-4d42-ad22-5db83d705773",
   "metadata": {},
   "source": [
    "<b>Objectives:</b>\n",
    "\n",
    "<div>\n",
    "    <ul>\n",
    "        <li>List popular languages used by Data Scientists</li>\n",
    "        <li>List libraries commonly used by Data Scientists</li>\n",
    "        <li>Perform basic arithmetic expressions in Python</li>\n",
    "    </ul>\n",
    "</div>"
   ]
  },
  {
   "cell_type": "markdown",
   "id": "a68e40de-44a5-41d3-8e2f-916205c83582",
   "metadata": {},
   "source": [
    "Some of the popular languages that Data Scientists use are:\n",
    "\n",
    "<ol>\n",
    "    <li>Python</li>\n",
    "    <li>R</li>\n",
    "    <li>SQL</li>\n",
    "</ol>"
   ]
  },
  {
   "cell_type": "markdown",
   "id": "6a1a54ba-09d9-4676-9d5d-27c7f14838d3",
   "metadata": {},
   "source": [
    "Some of the commonly used libraries used by Data Scientists include:\n",
    "\n",
    "<ol>\n",
    "    <li>NumPy</li>\n",
    "    <li>TensorFlow</li>\n",
    "    <li>pydot</li>\n",
    "</ol>"
   ]
  },
  {
   "cell_type": "markdown",
   "id": "5dfeb8d9-41d9-4f2a-81dd-9838b1befc3e",
   "metadata": {},
   "source": [
    "<table>\n",
    "    <tr>\n",
    "        <th>Data Science Tools</th>\n",
    "    </tr>\n",
    "    <tr>\n",
    "        <td>Jupyter Notebooks</td>\n",
    "    </tr>\n",
    "    <tr>\n",
    "        <td>Zeppelin Notebooks</td>\n",
    "    </tr>\n",
    "    <tr>\n",
    "        <td>R Studio</td>\n",
    "    </tr>\n",
    "</table>"
   ]
  },
  {
   "cell_type": "markdown",
   "id": "66e5c28c-7366-4ed2-82ba-72088b985595",
   "metadata": {},
   "source": [
    "<h3>Below are a few examples of evaluating arithmetic expressions in Python</h3>"
   ]
  },
  {
   "cell_type": "code",
   "execution_count": 1,
   "id": "4324222d-23f1-42d4-bef6-3253c44e50e8",
   "metadata": {},
   "outputs": [
    {
     "data": {
      "text/plain": [
       "20"
      ]
     },
     "execution_count": 1,
     "metadata": {},
     "output_type": "execute_result"
    }
   ],
   "source": [
    "#This arithmetic expression multiplies then adds integers.\n",
    "(2*6)+8"
   ]
  },
  {
   "cell_type": "code",
   "execution_count": 2,
   "id": "fb38322f-7aa1-4c40-9256-4968fcf0c080",
   "metadata": {},
   "outputs": [
    {
     "data": {
      "text/plain": [
       "3.3333333333333335"
      ]
     },
     "execution_count": 2,
     "metadata": {},
     "output_type": "execute_result"
    }
   ],
   "source": [
    "#This code will convert minutes to hours by dividing by 60.\n",
    "200/60"
   ]
  },
  {
   "cell_type": "markdown",
   "id": "8f6b6b50-0692-4e08-b3fa-f3694341d49b",
   "metadata": {},
   "source": [
    "<h2>Author</h2>\n",
    "\n",
    "Treston Tracy"
   ]
  }
 ],
 "metadata": {
  "kernelspec": {
   "display_name": "Python",
   "language": "python",
   "name": "conda-env-python-py"
  },
  "language_info": {
   "codemirror_mode": {
    "name": "ipython",
    "version": 3
   },
   "file_extension": ".py",
   "mimetype": "text/x-python",
   "name": "python",
   "nbconvert_exporter": "python",
   "pygments_lexer": "ipython3",
   "version": "3.7.12"
  }
 },
 "nbformat": 4,
 "nbformat_minor": 5
}
